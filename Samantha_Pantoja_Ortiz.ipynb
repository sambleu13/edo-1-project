{
  "nbformat": 4,
  "nbformat_minor": 0,
  "metadata": {
    "colab": {
      "provenance": [],
      "authorship_tag": "ABX9TyPhRrfLBkv5lrtCqpiF90oC",
      "include_colab_link": true
    },
    "kernelspec": {
      "name": "python3",
      "display_name": "Python 3"
    },
    "language_info": {
      "name": "python"
    }
  },
  "cells": [
    {
      "cell_type": "markdown",
      "metadata": {
        "id": "view-in-github",
        "colab_type": "text"
      },
      "source": [
        "<a href=\"https://colab.research.google.com/github/sambleu13/edo-1-project/blob/main/Samantha_Pantoja_Ortiz.ipynb\" target=\"_parent\"><img src=\"https://colab.research.google.com/assets/colab-badge.svg\" alt=\"Open In Colab\"/></a>"
      ]
    },
    {
      "cell_type": "code",
      "execution_count": null,
      "metadata": {
        "id": "KJS-EjArFQW9"
      },
      "outputs": [],
      "source": []
    },
    {
      "cell_type": "markdown",
      "source": [
        "# **Proyecto Final - Ecuaciones Diferenciales Ordinarias**"
      ],
      "metadata": {
        "id": "oTgofG39FTXB"
      }
    },
    {
      "cell_type": "markdown",
      "source": [
        "# Introducción"
      ],
      "metadata": {
        "id": "ico9wr0FFVhZ"
      }
    },
    {
      "cell_type": "markdown",
      "source": [
        "A continuación se analizará el modelo para basura de plásticos publicado en el artículo: [ANALYSIS OF NOVEL FRACTIONAL ORDER PLASTIC WASTE MODEL AND ITS EFFECTS ON AIR POLLUTION WITH TREATMENT MECHANISM](https://www.researchgate.net/publication/382298715_ANALYSIS_OF_NOVEL_FRACTIONAL_ORDER_PLASTIC_WASTE_MODEL_AND_ITS_EFFECTS_ON_AIR_POLLUTION_WITH_TREATMENT_MECHANISM). El modelo maneja los componentes plástico $P(t)$, plástico quemado $Q(t)$, plástico reciclado $R(t)$ y contaminación del aire $A(t)$ y se describe por las siguientes ecuaciones diferenciales:\n",
        "\\begin{align}\n",
        "\\frac{dP}{dt}&=\\Lambda - \\beta PQ - \\theta PR + \\rho R - \\omega P \\\\\n",
        "\\frac{dQ}{dt}&=\\beta PQ + \\varphi R - \\delta Q - \\rho Q \\\\\n",
        "\\frac{dR}{dt}&= \\theta PR - \\rho R - \\varphi R - \\gamma R - \\omega R  \\\\\n",
        "\\frac{dA}{dt}&=\\delta Q + \\gamma R - \\omega A\n",
        "\\end{align}\n",
        "\n",
        " Donde $\\Lambda$ es la tasa de demanda, $\\beta$ es la tasa de quema, $\\theta$ es la tasa de reciclaje, $\\rho$ es la tasa de reciclado o reutilizado, $\\omega$ es la tasa de desperdicio, $\\varphi$ es la tasa de quema durante el proceso de reciclaje, $\\delta$ es la tasa de contaminación del aire debido al plástico quemado y $\\gamma$ es la tasa de contaminación del aire debido al proceso de reciclaje del plástico.\n",
        "\n",
        " Vamos a tomar 156 semanas (3 años) para medir la evolución de los componentes, tomando los valores de los parámetros encontrados en el mismo artículo científico:\n",
        "\n",
        "\\begin{align}\n",
        "\\Lambda = 0.05 \\\\\n",
        "\\beta = 0.35 \\\\\n",
        "\\theta = 0.40 \\\\\n",
        "\\rho = 0.20 \\\\\n",
        "\\varphi = 0.05\\\\\n",
        "\\gamma = 0.30\\\\\n",
        "\\delta = 0.40\\\\\n",
        "\\omega = 0.30\n",
        "\\end{align}\n",
        "\n",
        "Consideramos también las condiciones iniciales siguientes:\n",
        "\\begin{align}\n",
        "P(0) &= 5\\\\\n",
        "Q(0) &= 2.5\\\\\n",
        "R(0) &= 1.25\\\\\n",
        "A(0) &= 2\n",
        "\\end{align}\n",
        "\n",
        "A continuación importamos las librerías para hacer cálculos en python y graficar, así como mostramos el código para calcular las soluciones numéricas con el método elegido."
      ],
      "metadata": {
        "id": "bhNI7TEtFZZM"
      }
    },
    {
      "cell_type": "code",
      "source": [
        "import numpy as np\n",
        "import matplotlib.pyplot as plt\n"
      ],
      "metadata": {
        "id": "l866cfPaGknv"
      },
      "execution_count": null,
      "outputs": []
    },
    {
      "cell_type": "code",
      "source": [
        "#Valores de los parámetros\n",
        "L = 0.05\n",
        "B = 0.35\n",
        "T = 0.40\n",
        "RR = 0.2\n",
        "V = 0.05\n",
        "G = 0.30\n",
        "D = 0.40\n",
        "O = 0.30\n",
        "\n",
        "#Intervalo de tiempo [0,3]\n",
        "t0 = 0\n",
        "tf = 3\n",
        "#pasos de tiempo\n",
        "n = 156\n",
        "\n",
        "#Condiciones inicial\n",
        "P0 = 5\n",
        "Q0 = 2.5\n",
        "R0 = 1.25\n",
        "A0 = 2\n",
        "\n",
        "#longitud homogénea del paso de tiempo o tamaño del salto\n",
        "h = (tf - t0)/n\n",
        "\n",
        "#vector con el tiempo discretizado\n",
        "t = np.linspace(t0,tf,n+1)\n",
        "\n",
        "#vectores de ceros para almacenar las soluciones que se llenará con las iteraciones\n",
        "P = np.zeros(n+1)\n",
        "Q = np.zeros(n+1)\n",
        "R = np.zeros(n+1)\n",
        "A = np.zeros(n+1)\n",
        "\n",
        "P[0] = P0\n",
        "Q[0] = Q0\n",
        "R[0] = R0\n",
        "A[0] = A0"
      ],
      "metadata": {
        "id": "rJdwEvonaJ2j"
      },
      "execution_count": null,
      "outputs": []
    },
    {
      "cell_type": "markdown",
      "source": [
        "# Método Numérico"
      ],
      "metadata": {
        "id": "Q5TRJlSoFa2E"
      }
    },
    {
      "cell_type": "markdown",
      "source": [
        "Para aproximar soluciones numéricas utilizamos el método de euler que consist en calcular puntos igualmente espaciados en el tiempo, desde el punto inicial hasta un punto final particular. Con cada paso de tiempo vamos construyendo el siguiente punto con la suma del punto anterior y el punto anterior por el salto del paso de tiempo, como se observa a continuación:\n",
        "\n",
        "##Método de Euler\n",
        "$$y_{n+1}=y_n+h \\text{ } f(t_n, y_n)$$\n",
        "\n",
        "Donde $y_{n+1}$ es el punto a encontrar, $y_n$ es el punto anterior, $h$ es el salto del paso de tiempo y $f(t_n,y_n)$ es la función evaluada en el tiempo y punto anterior.\n",
        "\n",
        "Aplicamos este procedimiento a cada una de las ecuaciones diferenciales y obtenemos la solución numérica que se muestra en formato de código a continuación:"
      ],
      "metadata": {
        "id": "FsQ1KeqeFfa3"
      }
    },
    {
      "cell_type": "code",
      "source": [
        "#Solución Numérica\n",
        "\n",
        "#ciclo para llenar vectores con Euler\n",
        "for i in range(0,n):\n",
        "  P[i+1] = P[i] + h * (L-(B*P[i]*Q[i])-(T*P[i]*R[i])+(RR*R[i])-(O*P[i]))\n",
        "  Q[i+1] = Q[i] + h * ((B*P[i]*Q[i])+(V*R[i])-(D*Q[i])-(O*Q[i]))\n",
        "  R[i+1] = R[i] + h * ((T*P[i]*R[i])-(RR*R[i])-(V*R[i])-(G*R[i])-(O*R[i]))\n",
        "  A[i+1] = A[i] + h * ((D*Q[i])+(G*R[i])-(O*A[i]))\n",
        "\n",
        "print(\"Valor de h: \", h)\n",
        "print(\"Tiempo\",\"|\", \"Plástico\",\"|\", \"P. Quemado \",\"|\", \"P. Reciclado\",\"|\", \"Cont. Aire\")\n",
        "for i in range(n+1):\n",
        "  print(\"%.2f | %10.2f | %10.2f | %10.2f | %10.2f\" % (t[i], P[i], Q[i], R[i], A[i]))"
      ],
      "metadata": {
        "id": "gpimRQUkbweX",
        "colab": {
          "base_uri": "https://localhost:8080/"
        },
        "outputId": "3d15448c-c1b2-4f35-a0ad-593e2d383595"
      },
      "execution_count": null,
      "outputs": [
        {
          "output_type": "stream",
          "name": "stdout",
          "text": [
            "Valor de h:  0.019230769230769232\n",
            "Tiempo | Plástico | P. Quemado  | P. Reciclado | Cont. Aire\n",
            "0.00 |       5.00 |       2.50 |       1.25 |       2.00\n",
            "0.02 |       4.84 |       2.55 |       1.28 |       2.01\n",
            "0.04 |       4.69 |       2.60 |       1.30 |       2.03\n",
            "0.06 |       4.54 |       2.65 |       1.33 |       2.05\n",
            "0.08 |       4.39 |       2.70 |       1.35 |       2.06\n",
            "0.10 |       4.25 |       2.74 |       1.38 |       2.08\n",
            "0.12 |       4.11 |       2.78 |       1.40 |       2.10\n",
            "0.13 |       3.97 |       2.83 |       1.42 |       2.11\n",
            "0.15 |       3.83 |       2.86 |       1.44 |       2.13\n",
            "0.17 |       3.70 |       2.90 |       1.46 |       2.15\n",
            "0.19 |       3.57 |       2.94 |       1.48 |       2.17\n",
            "0.21 |       3.45 |       2.97 |       1.50 |       2.19\n",
            "0.23 |       3.33 |       3.00 |       1.51 |       2.21\n",
            "0.25 |       3.21 |       3.03 |       1.52 |       2.22\n",
            "0.27 |       3.09 |       3.05 |       1.54 |       2.24\n",
            "0.29 |       2.98 |       3.08 |       1.55 |       2.26\n",
            "0.31 |       2.87 |       3.10 |       1.56 |       2.28\n",
            "0.33 |       2.77 |       3.12 |       1.57 |       2.30\n",
            "0.35 |       2.67 |       3.14 |       1.58 |       2.32\n",
            "0.37 |       2.57 |       3.15 |       1.58 |       2.34\n",
            "0.38 |       2.48 |       3.16 |       1.59 |       2.36\n",
            "0.40 |       2.39 |       3.18 |       1.59 |       2.38\n",
            "0.42 |       2.30 |       3.19 |       1.60 |       2.40\n",
            "0.44 |       2.22 |       3.19 |       1.60 |       2.42\n",
            "0.46 |       2.14 |       3.20 |       1.60 |       2.44\n",
            "0.48 |       2.06 |       3.21 |       1.60 |       2.46\n",
            "0.50 |       1.99 |       3.21 |       1.60 |       2.48\n",
            "0.52 |       1.91 |       3.21 |       1.60 |       2.50\n",
            "0.54 |       1.84 |       3.21 |       1.59 |       2.52\n",
            "0.56 |       1.78 |       3.21 |       1.59 |       2.54\n",
            "0.58 |       1.72 |       3.20 |       1.59 |       2.56\n",
            "0.60 |       1.65 |       3.20 |       1.58 |       2.58\n",
            "0.62 |       1.60 |       3.19 |       1.58 |       2.60\n",
            "0.63 |       1.54 |       3.19 |       1.57 |       2.61\n",
            "0.65 |       1.49 |       3.18 |       1.56 |       2.63\n",
            "0.67 |       1.44 |       3.17 |       1.55 |       2.65\n",
            "0.69 |       1.39 |       3.16 |       1.55 |       2.67\n",
            "0.71 |       1.34 |       3.15 |       1.54 |       2.69\n",
            "0.73 |       1.29 |       3.13 |       1.53 |       2.70\n",
            "0.75 |       1.25 |       3.12 |       1.52 |       2.72\n",
            "0.77 |       1.21 |       3.11 |       1.51 |       2.74\n",
            "0.79 |       1.17 |       3.09 |       1.50 |       2.76\n",
            "0.81 |       1.13 |       3.08 |       1.49 |       2.77\n",
            "0.83 |       1.10 |       3.06 |       1.48 |       2.79\n",
            "0.85 |       1.06 |       3.04 |       1.46 |       2.80\n",
            "0.87 |       1.03 |       3.02 |       1.45 |       2.82\n",
            "0.88 |       1.00 |       3.01 |       1.44 |       2.84\n",
            "0.90 |       0.97 |       2.99 |       1.43 |       2.85\n",
            "0.92 |       0.94 |       2.97 |       1.41 |       2.87\n",
            "0.94 |       0.91 |       2.95 |       1.40 |       2.88\n",
            "0.96 |       0.88 |       2.93 |       1.39 |       2.89\n",
            "0.98 |       0.86 |       2.91 |       1.37 |       2.91\n",
            "1.00 |       0.83 |       2.89 |       1.36 |       2.92\n",
            "1.02 |       0.81 |       2.86 |       1.35 |       2.93\n",
            "1.04 |       0.79 |       2.84 |       1.33 |       2.95\n",
            "1.06 |       0.76 |       2.82 |       1.32 |       2.96\n",
            "1.08 |       0.74 |       2.80 |       1.31 |       2.97\n",
            "1.10 |       0.72 |       2.78 |       1.29 |       2.98\n",
            "1.12 |       0.71 |       2.75 |       1.28 |       3.00\n",
            "1.13 |       0.69 |       2.73 |       1.26 |       3.01\n",
            "1.15 |       0.67 |       2.71 |       1.25 |       3.02\n",
            "1.17 |       0.65 |       2.68 |       1.24 |       3.03\n",
            "1.19 |       0.64 |       2.66 |       1.22 |       3.04\n",
            "1.21 |       0.62 |       2.64 |       1.21 |       3.05\n",
            "1.23 |       0.61 |       2.61 |       1.19 |       3.06\n",
            "1.25 |       0.59 |       2.59 |       1.18 |       3.07\n",
            "1.27 |       0.58 |       2.57 |       1.17 |       3.08\n",
            "1.29 |       0.57 |       2.54 |       1.15 |       3.09\n",
            "1.31 |       0.55 |       2.52 |       1.14 |       3.09\n",
            "1.33 |       0.54 |       2.50 |       1.13 |       3.10\n",
            "1.35 |       0.53 |       2.47 |       1.11 |       3.11\n",
            "1.37 |       0.52 |       2.45 |       1.10 |       3.12\n",
            "1.38 |       0.51 |       2.43 |       1.08 |       3.12\n",
            "1.40 |       0.50 |       2.40 |       1.07 |       3.13\n",
            "1.42 |       0.49 |       2.38 |       1.06 |       3.14\n",
            "1.44 |       0.48 |       2.36 |       1.04 |       3.14\n",
            "1.46 |       0.47 |       2.33 |       1.03 |       3.15\n",
            "1.48 |       0.46 |       2.31 |       1.02 |       3.16\n",
            "1.50 |       0.45 |       2.29 |       1.00 |       3.16\n",
            "1.52 |       0.44 |       2.27 |       0.99 |       3.17\n",
            "1.54 |       0.44 |       2.24 |       0.98 |       3.17\n",
            "1.56 |       0.43 |       2.22 |       0.97 |       3.18\n",
            "1.58 |       0.42 |       2.20 |       0.95 |       3.18\n",
            "1.60 |       0.41 |       2.17 |       0.94 |       3.18\n",
            "1.62 |       0.41 |       2.15 |       0.93 |       3.19\n",
            "1.63 |       0.40 |       2.13 |       0.92 |       3.19\n",
            "1.65 |       0.39 |       2.11 |       0.90 |       3.20\n",
            "1.67 |       0.39 |       2.09 |       0.89 |       3.20\n",
            "1.69 |       0.38 |       2.06 |       0.88 |       3.20\n",
            "1.71 |       0.38 |       2.04 |       0.87 |       3.20\n",
            "1.73 |       0.37 |       2.02 |       0.86 |       3.21\n",
            "1.75 |       0.36 |       2.00 |       0.85 |       3.21\n",
            "1.77 |       0.36 |       1.98 |       0.83 |       3.21\n",
            "1.79 |       0.35 |       1.96 |       0.82 |       3.21\n",
            "1.81 |       0.35 |       1.94 |       0.81 |       3.21\n",
            "1.83 |       0.34 |       1.92 |       0.80 |       3.21\n",
            "1.85 |       0.34 |       1.90 |       0.79 |       3.21\n",
            "1.87 |       0.34 |       1.88 |       0.78 |       3.21\n",
            "1.88 |       0.33 |       1.85 |       0.77 |       3.22\n",
            "1.90 |       0.33 |       1.83 |       0.76 |       3.22\n",
            "1.92 |       0.32 |       1.81 |       0.75 |       3.22\n",
            "1.94 |       0.32 |       1.80 |       0.74 |       3.21\n",
            "1.96 |       0.32 |       1.78 |       0.73 |       3.21\n",
            "1.98 |       0.31 |       1.76 |       0.72 |       3.21\n",
            "2.00 |       0.31 |       1.74 |       0.71 |       3.21\n",
            "2.02 |       0.31 |       1.72 |       0.70 |       3.21\n",
            "2.04 |       0.30 |       1.70 |       0.69 |       3.21\n",
            "2.06 |       0.30 |       1.68 |       0.68 |       3.21\n",
            "2.08 |       0.30 |       1.66 |       0.67 |       3.21\n",
            "2.10 |       0.29 |       1.64 |       0.66 |       3.21\n",
            "2.12 |       0.29 |       1.62 |       0.65 |       3.20\n",
            "2.13 |       0.29 |       1.61 |       0.64 |       3.20\n",
            "2.15 |       0.28 |       1.59 |       0.63 |       3.20\n",
            "2.17 |       0.28 |       1.57 |       0.62 |       3.20\n",
            "2.19 |       0.28 |       1.55 |       0.61 |       3.19\n",
            "2.21 |       0.28 |       1.54 |       0.60 |       3.19\n",
            "2.23 |       0.27 |       1.52 |       0.60 |       3.19\n",
            "2.25 |       0.27 |       1.50 |       0.59 |       3.18\n",
            "2.27 |       0.27 |       1.48 |       0.58 |       3.18\n",
            "2.29 |       0.27 |       1.47 |       0.57 |       3.18\n",
            "2.31 |       0.27 |       1.45 |       0.56 |       3.17\n",
            "2.33 |       0.26 |       1.44 |       0.55 |       3.17\n",
            "2.35 |       0.26 |       1.42 |       0.55 |       3.17\n",
            "2.37 |       0.26 |       1.40 |       0.54 |       3.16\n",
            "2.38 |       0.26 |       1.39 |       0.53 |       3.16\n",
            "2.40 |       0.25 |       1.37 |       0.52 |       3.15\n",
            "2.42 |       0.25 |       1.36 |       0.52 |       3.15\n",
            "2.44 |       0.25 |       1.34 |       0.51 |       3.14\n",
            "2.46 |       0.25 |       1.32 |       0.50 |       3.14\n",
            "2.48 |       0.25 |       1.31 |       0.49 |       3.13\n",
            "2.50 |       0.25 |       1.29 |       0.49 |       3.13\n",
            "2.52 |       0.24 |       1.28 |       0.48 |       3.12\n",
            "2.54 |       0.24 |       1.27 |       0.47 |       3.12\n",
            "2.56 |       0.24 |       1.25 |       0.47 |       3.11\n",
            "2.58 |       0.24 |       1.24 |       0.46 |       3.11\n",
            "2.60 |       0.24 |       1.22 |       0.45 |       3.10\n",
            "2.62 |       0.24 |       1.21 |       0.45 |       3.09\n",
            "2.63 |       0.24 |       1.19 |       0.44 |       3.09\n",
            "2.65 |       0.23 |       1.18 |       0.43 |       3.08\n",
            "2.67 |       0.23 |       1.17 |       0.43 |       3.08\n",
            "2.69 |       0.23 |       1.15 |       0.42 |       3.07\n",
            "2.71 |       0.23 |       1.14 |       0.41 |       3.06\n",
            "2.73 |       0.23 |       1.13 |       0.41 |       3.06\n",
            "2.75 |       0.23 |       1.11 |       0.40 |       3.05\n",
            "2.77 |       0.23 |       1.10 |       0.40 |       3.04\n",
            "2.79 |       0.22 |       1.09 |       0.39 |       3.04\n",
            "2.81 |       0.22 |       1.08 |       0.38 |       3.03\n",
            "2.83 |       0.22 |       1.06 |       0.38 |       3.02\n",
            "2.85 |       0.22 |       1.05 |       0.37 |       3.02\n",
            "2.87 |       0.22 |       1.04 |       0.37 |       3.01\n",
            "2.88 |       0.22 |       1.03 |       0.36 |       3.00\n",
            "2.90 |       0.22 |       1.01 |       0.36 |       2.99\n",
            "2.92 |       0.22 |       1.00 |       0.35 |       2.99\n",
            "2.94 |       0.22 |       0.99 |       0.35 |       2.98\n",
            "2.96 |       0.22 |       0.98 |       0.34 |       2.97\n",
            "2.98 |       0.21 |       0.97 |       0.34 |       2.96\n",
            "3.00 |       0.21 |       0.96 |       0.33 |       2.96\n"
          ]
        }
      ]
    },
    {
      "cell_type": "markdown",
      "source": [
        "# Resultados"
      ],
      "metadata": {
        "id": "5oh-fj_aFje0"
      }
    },
    {
      "cell_type": "markdown",
      "source": [
        "Una vez teniendo los resultados del método numérico, intentamos obtener los valores exactos de las ecuaciones y notamos que no tienen soluciones analíticas, lo cual también se ve en el artículo del que se obtuvieron las ecuaciones, parámetros y valores iniciales."
      ],
      "metadata": {
        "id": "HTJYGRLRF2ek"
      }
    },
    {
      "cell_type": "code",
      "source": [
        "#Solución Analítica\n",
        "\n",
        "Pe = np.zeros(n+1)\n",
        "Qe = np.zeros(n+1)\n",
        "Re = np.zeros(n+1)\n",
        "Ae = np.zeros(n+1)\n",
        "\n",
        "Pe[0] = P0\n",
        "Qe[0] = Q0\n",
        "Re[0] = R0\n",
        "Ae[0] = A0\n",
        "\n",
        "for i in range(0,n):\n",
        "  Pe[i+1] = L-(B*Pe[i]*Qe[i])-(T*Pe[i]*Re[i])+(RR*Re[i])-(O*Pe[i])\n",
        "  Qe[i+1] = B*Pe[i]*Qe[i]+ V*Re[i]-D*Qe[i]-O*Qe[i]\n",
        "  Re[i+1] = T*Pe[i]*Re[i]-RR*Re[i]-V*Re[i]-G*Re[i]-O*Re[i]\n",
        "  Ae[i+1] = D*Qe[i]+G*Re[i]-O*Ae[i]\n",
        "\n",
        "print(\"Valor de h: \", h)\n",
        "print(\"Tiempo\",\"|\", \"Plástico\",\"|\", \"P. Quemado \",\"|\", \"P. Reciclado\",\"|\", \"Cont. Aire\")\n",
        "for i in range(n+1):\n",
        "  print(\"%.2f | %10.2f | %10.2f | %10.2f | %10.2f\" % (t[i], Pe[i], Qe[i], Re[i], Ae[i]))"
      ],
      "metadata": {
        "id": "FTIeEy2fHDEH",
        "colab": {
          "base_uri": "https://localhost:8080/"
        },
        "outputId": "05afc6cc-65f0-4fc1-c43c-ff3c40b06fec"
      },
      "execution_count": null,
      "outputs": [
        {
          "output_type": "stream",
          "name": "stdout",
          "text": [
            "Valor de h:  0.019230769230769232\n",
            "Tiempo | Plástico | P. Quemado  | P. Reciclado | Cont. Aire\n",
            "0.00 |       5.00 |       2.50 |       1.25 |       2.00\n",
            "0.02 |      -8.07 |       2.69 |       1.44 |       0.78\n",
            "0.04 |      15.00 |      -9.40 |      -5.87 |       1.27\n",
            "0.06 |      78.94 |     -43.08 |     -30.20 |      -5.90\n",
            "0.08 |    2114.15 |   -1161.58 |    -927.92 |     -24.52\n",
            "0.10 | 1643405.90 | -858749.65 | -783920.59 |    -735.65\n",
            "0.12 | 1009265224529.60 | -493945422446.98 | -515319223627.24 | -578455.34\n",
            "0.13 | 382520186966982189383680.00 | -174482678191642434863104.00 | -208037508774987634311168.00 | -352173762530.36\n",
            "0.15 | 55191520040629781890893443636217063263986253824.00 | -23360101339528394842117179831349955536554557440.00 | -31831418701101387048776263804867107727431696384.00 | -132204323909047618109440.00\n",
            "0.17 | 1153977578696509243835127857633351477510235383052383030154420111247951942559127977095906459648.00 | -451247825431103407658160689684172863537594364815638309401312175605918653452063750930646958080.00 | -702729753265405894073011786607276325758133522580698647388100268462315308835856230121824321536.00 | -18893466146141772530299030800124832736807485440.00\n",
            "0.19 | 506629207204550771797789693180916178118953286539425460275341312031479770599073288632047284046076678802269816004572999270740168516627065940575541696231500905822927955838893985027535667200.00 | -182255455544067419297727144238721213056666143629593030155189287100066818422891056173094786200262893119911705418768665637428554537150632914040629240266417831964952700563213894053015846912.00 | -324373751660483382691761947514525782994723790815983557455521788262936379185832634423945796983004602371371912007074473965058614225587192224699589495363424134349449266737248440169682436096.00 | -391318056152063154443585659319091127856674804438046488630951883909174861923099170991432007680.00\n",
            "0.21 |        inf |       -inf |       -inf | -170214307715771976488279562235380056534596265115402053831658298652602955722976132403422993747568374621573495485375780378139606033314258993393193136835926160992521057954146419833078546432.00\n",
            "0.23 |        nan |        nan |        nan |       -inf\n",
            "0.25 |        nan |        nan |        nan |        nan\n",
            "0.27 |        nan |        nan |        nan |        nan\n",
            "0.29 |        nan |        nan |        nan |        nan\n",
            "0.31 |        nan |        nan |        nan |        nan\n",
            "0.33 |        nan |        nan |        nan |        nan\n",
            "0.35 |        nan |        nan |        nan |        nan\n",
            "0.37 |        nan |        nan |        nan |        nan\n",
            "0.38 |        nan |        nan |        nan |        nan\n",
            "0.40 |        nan |        nan |        nan |        nan\n",
            "0.42 |        nan |        nan |        nan |        nan\n",
            "0.44 |        nan |        nan |        nan |        nan\n",
            "0.46 |        nan |        nan |        nan |        nan\n",
            "0.48 |        nan |        nan |        nan |        nan\n",
            "0.50 |        nan |        nan |        nan |        nan\n",
            "0.52 |        nan |        nan |        nan |        nan\n",
            "0.54 |        nan |        nan |        nan |        nan\n",
            "0.56 |        nan |        nan |        nan |        nan\n",
            "0.58 |        nan |        nan |        nan |        nan\n",
            "0.60 |        nan |        nan |        nan |        nan\n",
            "0.62 |        nan |        nan |        nan |        nan\n",
            "0.63 |        nan |        nan |        nan |        nan\n",
            "0.65 |        nan |        nan |        nan |        nan\n",
            "0.67 |        nan |        nan |        nan |        nan\n",
            "0.69 |        nan |        nan |        nan |        nan\n",
            "0.71 |        nan |        nan |        nan |        nan\n",
            "0.73 |        nan |        nan |        nan |        nan\n",
            "0.75 |        nan |        nan |        nan |        nan\n",
            "0.77 |        nan |        nan |        nan |        nan\n",
            "0.79 |        nan |        nan |        nan |        nan\n",
            "0.81 |        nan |        nan |        nan |        nan\n",
            "0.83 |        nan |        nan |        nan |        nan\n",
            "0.85 |        nan |        nan |        nan |        nan\n",
            "0.87 |        nan |        nan |        nan |        nan\n",
            "0.88 |        nan |        nan |        nan |        nan\n",
            "0.90 |        nan |        nan |        nan |        nan\n",
            "0.92 |        nan |        nan |        nan |        nan\n",
            "0.94 |        nan |        nan |        nan |        nan\n",
            "0.96 |        nan |        nan |        nan |        nan\n",
            "0.98 |        nan |        nan |        nan |        nan\n",
            "1.00 |        nan |        nan |        nan |        nan\n",
            "1.02 |        nan |        nan |        nan |        nan\n",
            "1.04 |        nan |        nan |        nan |        nan\n",
            "1.06 |        nan |        nan |        nan |        nan\n",
            "1.08 |        nan |        nan |        nan |        nan\n",
            "1.10 |        nan |        nan |        nan |        nan\n",
            "1.12 |        nan |        nan |        nan |        nan\n",
            "1.13 |        nan |        nan |        nan |        nan\n",
            "1.15 |        nan |        nan |        nan |        nan\n",
            "1.17 |        nan |        nan |        nan |        nan\n",
            "1.19 |        nan |        nan |        nan |        nan\n",
            "1.21 |        nan |        nan |        nan |        nan\n",
            "1.23 |        nan |        nan |        nan |        nan\n",
            "1.25 |        nan |        nan |        nan |        nan\n",
            "1.27 |        nan |        nan |        nan |        nan\n",
            "1.29 |        nan |        nan |        nan |        nan\n",
            "1.31 |        nan |        nan |        nan |        nan\n",
            "1.33 |        nan |        nan |        nan |        nan\n",
            "1.35 |        nan |        nan |        nan |        nan\n",
            "1.37 |        nan |        nan |        nan |        nan\n",
            "1.38 |        nan |        nan |        nan |        nan\n",
            "1.40 |        nan |        nan |        nan |        nan\n",
            "1.42 |        nan |        nan |        nan |        nan\n",
            "1.44 |        nan |        nan |        nan |        nan\n",
            "1.46 |        nan |        nan |        nan |        nan\n",
            "1.48 |        nan |        nan |        nan |        nan\n",
            "1.50 |        nan |        nan |        nan |        nan\n",
            "1.52 |        nan |        nan |        nan |        nan\n",
            "1.54 |        nan |        nan |        nan |        nan\n",
            "1.56 |        nan |        nan |        nan |        nan\n",
            "1.58 |        nan |        nan |        nan |        nan\n",
            "1.60 |        nan |        nan |        nan |        nan\n",
            "1.62 |        nan |        nan |        nan |        nan\n",
            "1.63 |        nan |        nan |        nan |        nan\n",
            "1.65 |        nan |        nan |        nan |        nan\n",
            "1.67 |        nan |        nan |        nan |        nan\n",
            "1.69 |        nan |        nan |        nan |        nan\n",
            "1.71 |        nan |        nan |        nan |        nan\n",
            "1.73 |        nan |        nan |        nan |        nan\n",
            "1.75 |        nan |        nan |        nan |        nan\n",
            "1.77 |        nan |        nan |        nan |        nan\n",
            "1.79 |        nan |        nan |        nan |        nan\n",
            "1.81 |        nan |        nan |        nan |        nan\n",
            "1.83 |        nan |        nan |        nan |        nan\n",
            "1.85 |        nan |        nan |        nan |        nan\n",
            "1.87 |        nan |        nan |        nan |        nan\n",
            "1.88 |        nan |        nan |        nan |        nan\n",
            "1.90 |        nan |        nan |        nan |        nan\n",
            "1.92 |        nan |        nan |        nan |        nan\n",
            "1.94 |        nan |        nan |        nan |        nan\n",
            "1.96 |        nan |        nan |        nan |        nan\n",
            "1.98 |        nan |        nan |        nan |        nan\n",
            "2.00 |        nan |        nan |        nan |        nan\n",
            "2.02 |        nan |        nan |        nan |        nan\n",
            "2.04 |        nan |        nan |        nan |        nan\n",
            "2.06 |        nan |        nan |        nan |        nan\n",
            "2.08 |        nan |        nan |        nan |        nan\n",
            "2.10 |        nan |        nan |        nan |        nan\n",
            "2.12 |        nan |        nan |        nan |        nan\n",
            "2.13 |        nan |        nan |        nan |        nan\n",
            "2.15 |        nan |        nan |        nan |        nan\n",
            "2.17 |        nan |        nan |        nan |        nan\n",
            "2.19 |        nan |        nan |        nan |        nan\n",
            "2.21 |        nan |        nan |        nan |        nan\n",
            "2.23 |        nan |        nan |        nan |        nan\n",
            "2.25 |        nan |        nan |        nan |        nan\n",
            "2.27 |        nan |        nan |        nan |        nan\n",
            "2.29 |        nan |        nan |        nan |        nan\n",
            "2.31 |        nan |        nan |        nan |        nan\n",
            "2.33 |        nan |        nan |        nan |        nan\n",
            "2.35 |        nan |        nan |        nan |        nan\n",
            "2.37 |        nan |        nan |        nan |        nan\n",
            "2.38 |        nan |        nan |        nan |        nan\n",
            "2.40 |        nan |        nan |        nan |        nan\n",
            "2.42 |        nan |        nan |        nan |        nan\n",
            "2.44 |        nan |        nan |        nan |        nan\n",
            "2.46 |        nan |        nan |        nan |        nan\n",
            "2.48 |        nan |        nan |        nan |        nan\n",
            "2.50 |        nan |        nan |        nan |        nan\n",
            "2.52 |        nan |        nan |        nan |        nan\n",
            "2.54 |        nan |        nan |        nan |        nan\n",
            "2.56 |        nan |        nan |        nan |        nan\n",
            "2.58 |        nan |        nan |        nan |        nan\n",
            "2.60 |        nan |        nan |        nan |        nan\n",
            "2.62 |        nan |        nan |        nan |        nan\n",
            "2.63 |        nan |        nan |        nan |        nan\n",
            "2.65 |        nan |        nan |        nan |        nan\n",
            "2.67 |        nan |        nan |        nan |        nan\n",
            "2.69 |        nan |        nan |        nan |        nan\n",
            "2.71 |        nan |        nan |        nan |        nan\n",
            "2.73 |        nan |        nan |        nan |        nan\n",
            "2.75 |        nan |        nan |        nan |        nan\n",
            "2.77 |        nan |        nan |        nan |        nan\n",
            "2.79 |        nan |        nan |        nan |        nan\n",
            "2.81 |        nan |        nan |        nan |        nan\n",
            "2.83 |        nan |        nan |        nan |        nan\n",
            "2.85 |        nan |        nan |        nan |        nan\n",
            "2.87 |        nan |        nan |        nan |        nan\n",
            "2.88 |        nan |        nan |        nan |        nan\n",
            "2.90 |        nan |        nan |        nan |        nan\n",
            "2.92 |        nan |        nan |        nan |        nan\n",
            "2.94 |        nan |        nan |        nan |        nan\n",
            "2.96 |        nan |        nan |        nan |        nan\n",
            "2.98 |        nan |        nan |        nan |        nan\n",
            "3.00 |        nan |        nan |        nan |        nan\n"
          ]
        },
        {
          "output_type": "stream",
          "name": "stderr",
          "text": [
            "<ipython-input-22-15f0c3436583>:14: RuntimeWarning: overflow encountered in scalar multiply\n",
            "  Pe[i+1] = L-(B*Pe[i]*Qe[i])-(T*Pe[i]*Re[i])+(RR*Re[i])-(O*Pe[i])\n",
            "<ipython-input-22-15f0c3436583>:15: RuntimeWarning: overflow encountered in scalar multiply\n",
            "  Qe[i+1] = B*Pe[i]*Qe[i]+ V*Re[i]-D*Qe[i]-O*Qe[i]\n",
            "<ipython-input-22-15f0c3436583>:16: RuntimeWarning: overflow encountered in scalar multiply\n",
            "  Re[i+1] = T*Pe[i]*Re[i]-RR*Re[i]-V*Re[i]-G*Re[i]-O*Re[i]\n",
            "<ipython-input-22-15f0c3436583>:14: RuntimeWarning: invalid value encountered in scalar add\n",
            "  Pe[i+1] = L-(B*Pe[i]*Qe[i])-(T*Pe[i]*Re[i])+(RR*Re[i])-(O*Pe[i])\n",
            "<ipython-input-22-15f0c3436583>:15: RuntimeWarning: invalid value encountered in scalar subtract\n",
            "  Qe[i+1] = B*Pe[i]*Qe[i]+ V*Re[i]-D*Qe[i]-O*Qe[i]\n",
            "<ipython-input-22-15f0c3436583>:16: RuntimeWarning: invalid value encountered in scalar subtract\n",
            "  Re[i+1] = T*Pe[i]*Re[i]-RR*Re[i]-V*Re[i]-G*Re[i]-O*Re[i]\n"
          ]
        }
      ]
    },
    {
      "cell_type": "markdown",
      "source": [
        "# Gráficas"
      ],
      "metadata": {
        "id": "pY_0NY1IFqTP"
      }
    },
    {
      "cell_type": "markdown",
      "source": [
        "Procedemos a graficar sólo la solución numérica con el código que se muestra a continuación:"
      ],
      "metadata": {
        "id": "zryw-VMRF1I7"
      }
    },
    {
      "cell_type": "code",
      "source": [
        "#gráfica\n",
        "plt.figure(figsize=(10,7))\n",
        "plt.plot(t, P, '-b', label=\"Plástico\")\n",
        "plt.plot(t, Q, '-r', label=\"Plástico quemado\")\n",
        "plt.plot(t, R, '-g', label=\"Plástico reciclado\")\n",
        "plt.plot(t, A, '-m', label=\"Contaminación del aire\")\n",
        "plt.xlabel(\"Tiempo (años)\")\n",
        "plt.ylabel(\"Componentes\")\n",
        "plt.title(\"Solución numérica del modelo de basura de plásticos\")\n",
        "plt.legend(loc = 'best', fontsize=15)\n",
        "plt.grid(True)\n",
        "plt.show()\n"
      ],
      "metadata": {
        "id": "jVF2Lct9GSxx",
        "colab": {
          "base_uri": "https://localhost:8080/",
          "height": 642
        },
        "outputId": "bf292e99-8792-49fa-809d-c72a38582000"
      },
      "execution_count": null,
      "outputs": [
        {
          "output_type": "display_data",
          "data": {
            "text/plain": [
              "<Figure size 1000x700 with 1 Axes>"
            ],
            "image/png": "[encoded data removed]"
          },
          "metadata": {}
        }
      ]
    },
    {
      "cell_type": "markdown",
      "source": [
        "# Conclusiones"
      ],
      "metadata": {
        "id": "Zsw76Z7WFvxY"
      }
    },
    {
      "cell_type": "markdown",
      "source": [
        "Observamos que las soluciones numéricas tienden a cero, es decir, los valores de los componentes se reducen con el tiempo. En primer lugar, la cantidad disponible de plástico se reduce con el tiempo debido al plástico quemado y reciclado. Por su parte, el plástico quemado y plástico reciclado primero crecen hasta alcanzar un pico muy tan sólo en medio año para que sus crecimientos se reduzcan pues cada vez hay menos plástico que quemar y reciclar.\n",
        "\n",
        "También notamos que la contaminación del aire crece inclusive después de la disminución del plástico quemado y reciclado, alcanza su pico casi a los 2 años y después decrece muy poco, debido a la poca cantidad de plástico restante, así como a la quema y reciclaje del mismo.\n",
        "\n",
        "En conclusión, gracias al método de Euler pudimos graficar aproximaciones de las soluciones de las ecuaciones de este modelo y comprobar que disminuir la cantidad disponible y el uso del plástico es la solución más efectiva para disminuir la contaminación del aire, aunque otras otras soluciones menos efectivas siguen siendo quemar y reciclar o reutilizar el plástico."
      ],
      "metadata": {
        "id": "YJ3rf7tAF1xB"
      }
    }
  ]
}